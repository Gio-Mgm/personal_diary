{
 "metadata": {
  "language_info": {
   "codemirror_mode": {
    "name": "ipython",
    "version": 3
   },
   "file_extension": ".py",
   "mimetype": "text/x-python",
   "name": "python",
   "nbconvert_exporter": "python",
   "pygments_lexer": "ipython3",
   "version": "3.8.5"
  },
  "orig_nbformat": 2,
  "kernelspec": {
   "name": "python3",
   "display_name": "Python 3.8.5 64-bit ('base': conda)"
  },
  "metadata": {
   "interpreter": {
    "hash": "8224d4ec9857f5f2d3915b47613da9acc0e9c91d6b4c8d2fd51c493a871d537c"
   }
  },
  "interpreter": {
   "hash": "8224d4ec9857f5f2d3915b47613da9acc0e9c91d6b4c8d2fd51c493a871d537c"
  }
 },
 "nbformat": 4,
 "nbformat_minor": 2,
 "cells": [
  {
   "cell_type": "code",
   "execution_count": 4,
   "metadata": {},
   "outputs": [],
   "source": [
    "import pandas as pd\n",
    "\n",
    "df = pd.read_csv(\"../../data/02/emotions.csv\")"
   ]
  },
  {
   "cell_type": "code",
   "execution_count": 10,
   "metadata": {},
   "outputs": [
    {
     "output_type": "execute_result",
     "data": {
      "text/plain": [
       "   Unnamed: 0  user_id        date  \\\n",
       "0           0        7  2019-06-25   \n",
       "1           1        9  2019-06-25   \n",
       "2           2        1  2019-06-25   \n",
       "3           3        6  2019-06-25   \n",
       "4           4        2  2019-06-25   \n",
       "\n",
       "                                                text    major     anger  \\\n",
       "0  @grayguitar @andrewconnell I'm starting to fee...    worry  0.200591   \n",
       "1  @solangeknowles you are so freaking awesome So...  sadness  0.092699   \n",
       "2  Boarding the USS Enterprise.. Warp speed ahead...    happy  0.916915   \n",
       "3  i shall have to stay feeling neglectful of all...  sadness  0.879376   \n",
       "4  r u still there? ? I guess not    i want to ta...    worry  0.813271   \n",
       "\n",
       "       fear       fun     happy      hate      love   neutral   sadness  \\\n",
       "0  0.980000  0.071671  0.251115  0.857450  0.711335  0.971160  0.832889   \n",
       "1  0.676225  0.459299  0.880022  0.451783  0.681055  0.939451  0.312333   \n",
       "2  0.305563  0.857966  0.082895  0.183296  0.278432  0.943966  0.617670   \n",
       "3  0.072371  0.211467  0.952771  0.242165  0.839446  0.426221  0.934668   \n",
       "4  0.160142  0.484049  0.186210  0.246679  0.219818  0.486765  0.715595   \n",
       "\n",
       "      worry  \n",
       "0  0.255250  \n",
       "1  0.753867  \n",
       "2  0.470783  \n",
       "3  0.477108  \n",
       "4  0.019771  "
      ],
      "text/html": "<div>\n<style scoped>\n    .dataframe tbody tr th:only-of-type {\n        vertical-align: middle;\n    }\n\n    .dataframe tbody tr th {\n        vertical-align: top;\n    }\n\n    .dataframe thead th {\n        text-align: right;\n    }\n</style>\n<table border=\"1\" class=\"dataframe\">\n  <thead>\n    <tr style=\"text-align: right;\">\n      <th></th>\n      <th>Unnamed: 0</th>\n      <th>user_id</th>\n      <th>date</th>\n      <th>text</th>\n      <th>major</th>\n      <th>anger</th>\n      <th>fear</th>\n      <th>fun</th>\n      <th>happy</th>\n      <th>hate</th>\n      <th>love</th>\n      <th>neutral</th>\n      <th>sadness</th>\n      <th>worry</th>\n    </tr>\n  </thead>\n  <tbody>\n    <tr>\n      <th>0</th>\n      <td>0</td>\n      <td>7</td>\n      <td>2019-06-25</td>\n      <td>@grayguitar @andrewconnell I'm starting to fee...</td>\n      <td>worry</td>\n      <td>0.200591</td>\n      <td>0.980000</td>\n      <td>0.071671</td>\n      <td>0.251115</td>\n      <td>0.857450</td>\n      <td>0.711335</td>\n      <td>0.971160</td>\n      <td>0.832889</td>\n      <td>0.255250</td>\n    </tr>\n    <tr>\n      <th>1</th>\n      <td>1</td>\n      <td>9</td>\n      <td>2019-06-25</td>\n      <td>@solangeknowles you are so freaking awesome So...</td>\n      <td>sadness</td>\n      <td>0.092699</td>\n      <td>0.676225</td>\n      <td>0.459299</td>\n      <td>0.880022</td>\n      <td>0.451783</td>\n      <td>0.681055</td>\n      <td>0.939451</td>\n      <td>0.312333</td>\n      <td>0.753867</td>\n    </tr>\n    <tr>\n      <th>2</th>\n      <td>2</td>\n      <td>1</td>\n      <td>2019-06-25</td>\n      <td>Boarding the USS Enterprise.. Warp speed ahead...</td>\n      <td>happy</td>\n      <td>0.916915</td>\n      <td>0.305563</td>\n      <td>0.857966</td>\n      <td>0.082895</td>\n      <td>0.183296</td>\n      <td>0.278432</td>\n      <td>0.943966</td>\n      <td>0.617670</td>\n      <td>0.470783</td>\n    </tr>\n    <tr>\n      <th>3</th>\n      <td>3</td>\n      <td>6</td>\n      <td>2019-06-25</td>\n      <td>i shall have to stay feeling neglectful of all...</td>\n      <td>sadness</td>\n      <td>0.879376</td>\n      <td>0.072371</td>\n      <td>0.211467</td>\n      <td>0.952771</td>\n      <td>0.242165</td>\n      <td>0.839446</td>\n      <td>0.426221</td>\n      <td>0.934668</td>\n      <td>0.477108</td>\n    </tr>\n    <tr>\n      <th>4</th>\n      <td>4</td>\n      <td>2</td>\n      <td>2019-06-25</td>\n      <td>r u still there? ? I guess not    i want to ta...</td>\n      <td>worry</td>\n      <td>0.813271</td>\n      <td>0.160142</td>\n      <td>0.484049</td>\n      <td>0.186210</td>\n      <td>0.246679</td>\n      <td>0.219818</td>\n      <td>0.486765</td>\n      <td>0.715595</td>\n      <td>0.019771</td>\n    </tr>\n  </tbody>\n</table>\n</div>"
     },
     "metadata": {},
     "execution_count": 10
    }
   ],
   "source": [
    "_ = pd.read_csv(\"../../data/03/posts.csv\")\n",
    "_.head()\n",
    "\n"
   ]
  },
  {
   "cell_type": "code",
   "execution_count": 74,
   "metadata": {},
   "outputs": [
    {
     "output_type": "stream",
     "name": "stdout",
     "text": [
      "(54931, 3)\n"
     ]
    },
    {
     "output_type": "execute_result",
     "data": {
      "text/plain": [
       "                                                text  \\\n",
       "0                            i didnt feel humiliated   \n",
       "1  i can go from feeling so hopeless to so damned...   \n",
       "2   im grabbing a minute to post i feel greedy wrong   \n",
       "3  i am ever feeling nostalgic about the fireplac...   \n",
       "4                               i am feeling grouchy   \n",
       "\n",
       "                                               lemma sentiment  \n",
       "0                                 not feel humiliate   sadness  \n",
       "1  go feel hopeless damn hopeful around someone c...   sadness  \n",
       "2                 grab minute post feel greedy wrong     anger  \n",
       "3  ever feel nostalgic fireplace know still property      love  \n",
       "4                                       feel grouchy     anger  "
      ],
      "text/html": "<div>\n<style scoped>\n    .dataframe tbody tr th:only-of-type {\n        vertical-align: middle;\n    }\n\n    .dataframe tbody tr th {\n        vertical-align: top;\n    }\n\n    .dataframe thead th {\n        text-align: right;\n    }\n</style>\n<table border=\"1\" class=\"dataframe\">\n  <thead>\n    <tr style=\"text-align: right;\">\n      <th></th>\n      <th>text</th>\n      <th>lemma</th>\n      <th>sentiment</th>\n    </tr>\n  </thead>\n  <tbody>\n    <tr>\n      <th>0</th>\n      <td>i didnt feel humiliated</td>\n      <td>not feel humiliate</td>\n      <td>sadness</td>\n    </tr>\n    <tr>\n      <th>1</th>\n      <td>i can go from feeling so hopeless to so damned...</td>\n      <td>go feel hopeless damn hopeful around someone c...</td>\n      <td>sadness</td>\n    </tr>\n    <tr>\n      <th>2</th>\n      <td>im grabbing a minute to post i feel greedy wrong</td>\n      <td>grab minute post feel greedy wrong</td>\n      <td>anger</td>\n    </tr>\n    <tr>\n      <th>3</th>\n      <td>i am ever feeling nostalgic about the fireplac...</td>\n      <td>ever feel nostalgic fireplace know still property</td>\n      <td>love</td>\n    </tr>\n    <tr>\n      <th>4</th>\n      <td>i am feeling grouchy</td>\n      <td>feel grouchy</td>\n      <td>anger</td>\n    </tr>\n  </tbody>\n</table>\n</div>"
     },
     "metadata": {},
     "execution_count": 74
    }
   ],
   "source": [
    "print(df.shape)\n",
    "df.head()"
   ]
  },
  {
   "cell_type": "code",
   "execution_count": 75,
   "metadata": {},
   "outputs": [
    {
     "output_type": "execute_result",
     "data": {
      "text/plain": [
       "happy      12232\n",
       "sadness    11422\n",
       "neutral     8507\n",
       "worry       8440\n",
       "love        5479\n",
       "anger       3103\n",
       "fear        2652\n",
       "fun         1775\n",
       "hate        1321\n",
       "Name: sentiment, dtype: int64"
      ]
     },
     "metadata": {},
     "execution_count": 75
    }
   ],
   "source": [
    "df.sentiment.value_counts()"
   ]
  },
  {
   "cell_type": "code",
   "execution_count": 77,
   "metadata": {},
   "outputs": [
    {
     "output_type": "execute_result",
     "data": {
      "text/plain": [
       "   user_name user_register_date user_city user_monitoring\n",
       "0  Lily-Rose         2019-06-25     Lille                \n",
       "1     Cotton         2019-06-25     Lille                \n",
       "2     Tracey         2019-06-25     Lille                \n",
       "3   Mcdonald         2019-06-25     Lille                \n",
       "4       Tiah         2019-06-25     Lille                \n",
       "5    Hampton         2019-06-25     Lille                \n",
       "6     Burhan         2019-06-25     Lille                \n",
       "7      Marks         2019-06-25     Lille                \n",
       "8   Alasdair         2019-06-25     Lille                \n",
       "9      Cyrus         2019-06-25     Lille                "
      ],
      "text/html": "<div>\n<style scoped>\n    .dataframe tbody tr th:only-of-type {\n        vertical-align: middle;\n    }\n\n    .dataframe tbody tr th {\n        vertical-align: top;\n    }\n\n    .dataframe thead th {\n        text-align: right;\n    }\n</style>\n<table border=\"1\" class=\"dataframe\">\n  <thead>\n    <tr style=\"text-align: right;\">\n      <th></th>\n      <th>user_name</th>\n      <th>user_register_date</th>\n      <th>user_city</th>\n      <th>user_monitoring</th>\n    </tr>\n  </thead>\n  <tbody>\n    <tr>\n      <th>0</th>\n      <td>Lily-Rose</td>\n      <td>2019-06-25</td>\n      <td>Lille</td>\n      <td></td>\n    </tr>\n    <tr>\n      <th>1</th>\n      <td>Cotton</td>\n      <td>2019-06-25</td>\n      <td>Lille</td>\n      <td></td>\n    </tr>\n    <tr>\n      <th>2</th>\n      <td>Tracey</td>\n      <td>2019-06-25</td>\n      <td>Lille</td>\n      <td></td>\n    </tr>\n    <tr>\n      <th>3</th>\n      <td>Mcdonald</td>\n      <td>2019-06-25</td>\n      <td>Lille</td>\n      <td></td>\n    </tr>\n    <tr>\n      <th>4</th>\n      <td>Tiah</td>\n      <td>2019-06-25</td>\n      <td>Lille</td>\n      <td></td>\n    </tr>\n    <tr>\n      <th>5</th>\n      <td>Hampton</td>\n      <td>2019-06-25</td>\n      <td>Lille</td>\n      <td></td>\n    </tr>\n    <tr>\n      <th>6</th>\n      <td>Burhan</td>\n      <td>2019-06-25</td>\n      <td>Lille</td>\n      <td></td>\n    </tr>\n    <tr>\n      <th>7</th>\n      <td>Marks</td>\n      <td>2019-06-25</td>\n      <td>Lille</td>\n      <td></td>\n    </tr>\n    <tr>\n      <th>8</th>\n      <td>Alasdair</td>\n      <td>2019-06-25</td>\n      <td>Lille</td>\n      <td></td>\n    </tr>\n    <tr>\n      <th>9</th>\n      <td>Cyrus</td>\n      <td>2019-06-25</td>\n      <td>Lille</td>\n      <td></td>\n    </tr>\n  </tbody>\n</table>\n</div>"
     },
     "metadata": {},
     "execution_count": 77
    }
   ],
   "source": [
    "# Dataframe for users\n",
    "\n",
    "cols = [\n",
    "    \"user_name\", \n",
    "    \"user_register_date\",\n",
    "    \"user_city\",\n",
    "    \"user_monitoring\",\n",
    "]\n",
    "\n",
    "\n",
    "user_df = pd.DataFrame(columns=cols)\n",
    "\n",
    "\n",
    "names_list = \"Lily-Rose Cotton Tracey Mcdonald Tiah Hampton Burhan Marks Alasdair Cyrus\".split(\" \")\n",
    "user_df.user_name = names_list\n",
    "user_df.user_register_date = \"2019-06-25\"\n",
    "user_df.user_city = \"Lille\"\n",
    "user_df.user_monitoring = \"\"\n",
    "user_df"
   ]
  },
  {
   "cell_type": "code",
   "execution_count": 78,
   "metadata": {},
   "outputs": [],
   "source": [
    "cols = [\n",
    "    \"user_id\",\n",
    "    \"msg_date\",\n",
    "    \"msg_text\",\n",
    "    \"msg_major\",\n",
    "    \"msg_anger\",\n",
    "    \"msg_fear\",\n",
    "    \"msg_fun\",\n",
    "    \"msg_happy\",\n",
    "    \"msg_hate\",\n",
    "    \"msg_love\",\n",
    "    \"msg_neutral\",\n",
    "    \"msg_sadness\",\n",
    "    \"msg_worry\"\n",
    "]\n",
    "msg_df = pd.DataFrame(columns=cols)"
   ]
  },
  {
   "cell_type": "code",
   "execution_count": 79,
   "metadata": {},
   "outputs": [
    {
     "output_type": "execute_result",
     "data": {
      "text/plain": [
       "('@GLAMvoy Yes I think so unless it changed.  I sent u a happy mothers day text but u never responded back',\n",
       " 'sadness')"
      ]
     },
     "metadata": {},
     "execution_count": 79
    }
   ],
   "source": [
    "sample = df.sample(1)\n",
    "sample.iloc[0][\"text\"], sample.iloc[0][\"sentiment\"]"
   ]
  },
  {
   "cell_type": "code",
   "execution_count": 80,
   "metadata": {},
   "outputs": [
    {
     "output_type": "execute_result",
     "data": {
      "text/plain": [
       "Empty DataFrame\n",
       "Columns: [user_id, msg_date, msg_text, msg_major, msg_anger, msg_fear, msg_fun, msg_happy, msg_hate, msg_love, msg_neutral, msg_sadness, msg_worry]\n",
       "Index: []"
      ],
      "text/html": "<div>\n<style scoped>\n    .dataframe tbody tr th:only-of-type {\n        vertical-align: middle;\n    }\n\n    .dataframe tbody tr th {\n        vertical-align: top;\n    }\n\n    .dataframe thead th {\n        text-align: right;\n    }\n</style>\n<table border=\"1\" class=\"dataframe\">\n  <thead>\n    <tr style=\"text-align: right;\">\n      <th></th>\n      <th>user_id</th>\n      <th>msg_date</th>\n      <th>msg_text</th>\n      <th>msg_major</th>\n      <th>msg_anger</th>\n      <th>msg_fear</th>\n      <th>msg_fun</th>\n      <th>msg_happy</th>\n      <th>msg_hate</th>\n      <th>msg_love</th>\n      <th>msg_neutral</th>\n      <th>msg_sadness</th>\n      <th>msg_worry</th>\n    </tr>\n  </thead>\n  <tbody>\n  </tbody>\n</table>\n</div>"
     },
     "metadata": {},
     "execution_count": 80
    }
   ],
   "source": [
    "msg_df"
   ]
  },
  {
   "cell_type": "code",
   "execution_count": 81,
   "metadata": {},
   "outputs": [],
   "source": [
    "from numpy.random import randint, uniform as u\n",
    "\n",
    "date = \"2019-06-25\"\n",
    "i = 0\n",
    "for j in range(20):\n",
    "    if i / 10 == 1:\n",
    "        i = 0\n",
    "    s = df.sample(1)\n",
    "    msg_df.loc[j] =[randint(0, 10), date, s.iloc[0][\"text\"], s.iloc[0][\"sentiment\"], u(), u(), u(), u(), u(), u(), u(), u(), u()] "
   ]
  },
  {
   "cell_type": "code",
   "execution_count": 82,
   "metadata": {},
   "outputs": [
    {
     "output_type": "execute_result",
     "data": {
      "text/plain": [
       "   user_id    msg_date                                           msg_text  \\\n",
       "0        8  2019-06-25  i love all da sexy ladiez ya beautiful unique ...   \n",
       "1        1  2019-06-25  i dont know how to explain to you all the emot...   \n",
       "2        8  2019-06-25  @swamwine Yeah! Thanks! I'll be back in soon t...   \n",
       "3        4  2019-06-25  i feel calm and okay but sometimes i just get ...   \n",
       "4        7  2019-06-25  Sorting out Twitter issues....very frustrated ...   \n",
       "5        4  2019-06-25  i feel determined even if nervous about the un...   \n",
       "6        1  2019-06-25            when we stayed in vienna with our class   \n",
       "7        0  2019-06-25                                     i hate storms.   \n",
       "8        8  2019-06-25                   i am on BLAZE and my head hurts.   \n",
       "9        5  2019-06-25  a Dutch marketing agency is asking job applica...   \n",
       "10       7  2019-06-25                   i am left feeling numb and shaky   \n",
       "11       5  2019-06-25    when i first heard i like you from my boyfriend   \n",
       "12       3  2019-06-25             @AshleighGrace93 morning ashleighhh  x   \n",
       "13       6  2019-06-25  i can have strong feelings of inadequacy and b...   \n",
       "14       4  2019-06-25  i was feeling pretty anxious all day but my fi...   \n",
       "15       1  2019-06-25  i cant help but feeling a little hesitant abou...   \n",
       "16       8  2019-06-25                     anticipating a tough day ahead   \n",
       "17       9  2019-06-25  chilling on the sofa, I hate vaccinations, I f...   \n",
       "18       1  2019-06-25  @oheather78 Sweet! I'm a Jaycee one-letter-er ...   \n",
       "19       9  2019-06-25  i feel i am wrongly punished or that my misbeh...   \n",
       "\n",
       "   msg_major  msg_anger  msg_fear   msg_fun  msg_happy  msg_hate  msg_love  \\\n",
       "0       love   0.604999  0.390643  0.807246   0.250015  0.106402  0.985424   \n",
       "1       love   0.939684  0.004805  0.666241   0.948535  0.135430  0.762297   \n",
       "2       love   0.555049  0.127534  0.730983   0.291812  0.978555  0.961076   \n",
       "3      happy   0.789170  0.378934  0.010054   0.382677  0.779995  0.232247   \n",
       "4    sadness   0.145375  0.735272  0.556742   0.173615  0.803377  0.352663   \n",
       "5      happy   0.771547  0.414953  0.077189   0.353478  0.944439  0.550042   \n",
       "6       fear   0.429251  0.669631  0.749570   0.785327  0.151958  0.705126   \n",
       "7      worry   0.815066  0.328434  0.779316   0.502395  0.488474  0.022155   \n",
       "8      worry   0.841726  0.318780  0.348130   0.070946  0.717328  0.113960   \n",
       "9    neutral   0.678607  0.890771  0.533511   0.830520  0.493471  0.302623   \n",
       "10   sadness   0.279164  0.614566  0.682568   0.614033  0.078421  0.625123   \n",
       "11     happy   0.037569  0.667280  0.743265   0.208985  0.982063  0.837844   \n",
       "12   neutral   0.662112  0.527511  0.524379   0.382921  0.491395  0.923247   \n",
       "13     happy   0.280960  0.303964  0.014053   0.752417  0.684726  0.930048   \n",
       "14      fear   0.050651  0.544769  0.306391   0.518252  0.671325  0.469580   \n",
       "15      fear   0.412052  0.499988  0.080581   0.236762  0.652676  0.810466   \n",
       "16     worry   0.725717  0.210205  0.322582   0.848412  0.968209  0.464073   \n",
       "17     worry   0.994928  0.721856  0.519299   0.603632  0.004960  0.477519   \n",
       "18       fun   0.535082  0.602161  0.712975   0.373674  0.064686  0.243387   \n",
       "19   sadness   0.655966  0.520763  0.422587   0.894086  0.187115  0.750997   \n",
       "\n",
       "    msg_neutral  msg_sadness  msg_worry  \n",
       "0      0.710595     0.187343   0.795979  \n",
       "1      0.994771     0.990124   0.873539  \n",
       "2      0.587596     0.567723   0.927424  \n",
       "3      0.871201     0.318616   0.823189  \n",
       "4      0.452289     0.781035   0.275906  \n",
       "5      0.328112     0.223174   0.009819  \n",
       "6      0.387590     0.180752   0.493257  \n",
       "7      0.218752     0.099932   0.951560  \n",
       "8      0.899726     0.013460   0.553789  \n",
       "9      0.159066     0.261856   0.478206  \n",
       "10     0.595496     0.234539   0.949552  \n",
       "11     0.779988     0.661408   0.502540  \n",
       "12     0.932668     0.323502   0.996096  \n",
       "13     0.743178     0.287222   0.272282  \n",
       "14     0.856807     0.863045   0.569995  \n",
       "15     0.992807     0.412332   0.051955  \n",
       "16     0.347197     0.756910   0.174984  \n",
       "17     0.851123     0.394674   0.360597  \n",
       "18     0.701616     0.239934   0.628927  \n",
       "19     0.262859     0.094673   0.919938  "
      ],
      "text/html": "<div>\n<style scoped>\n    .dataframe tbody tr th:only-of-type {\n        vertical-align: middle;\n    }\n\n    .dataframe tbody tr th {\n        vertical-align: top;\n    }\n\n    .dataframe thead th {\n        text-align: right;\n    }\n</style>\n<table border=\"1\" class=\"dataframe\">\n  <thead>\n    <tr style=\"text-align: right;\">\n      <th></th>\n      <th>user_id</th>\n      <th>msg_date</th>\n      <th>msg_text</th>\n      <th>msg_major</th>\n      <th>msg_anger</th>\n      <th>msg_fear</th>\n      <th>msg_fun</th>\n      <th>msg_happy</th>\n      <th>msg_hate</th>\n      <th>msg_love</th>\n      <th>msg_neutral</th>\n      <th>msg_sadness</th>\n      <th>msg_worry</th>\n    </tr>\n  </thead>\n  <tbody>\n    <tr>\n      <th>0</th>\n      <td>8</td>\n      <td>2019-06-25</td>\n      <td>i love all da sexy ladiez ya beautiful unique ...</td>\n      <td>love</td>\n      <td>0.604999</td>\n      <td>0.390643</td>\n      <td>0.807246</td>\n      <td>0.250015</td>\n      <td>0.106402</td>\n      <td>0.985424</td>\n      <td>0.710595</td>\n      <td>0.187343</td>\n      <td>0.795979</td>\n    </tr>\n    <tr>\n      <th>1</th>\n      <td>1</td>\n      <td>2019-06-25</td>\n      <td>i dont know how to explain to you all the emot...</td>\n      <td>love</td>\n      <td>0.939684</td>\n      <td>0.004805</td>\n      <td>0.666241</td>\n      <td>0.948535</td>\n      <td>0.135430</td>\n      <td>0.762297</td>\n      <td>0.994771</td>\n      <td>0.990124</td>\n      <td>0.873539</td>\n    </tr>\n    <tr>\n      <th>2</th>\n      <td>8</td>\n      <td>2019-06-25</td>\n      <td>@swamwine Yeah! Thanks! I'll be back in soon t...</td>\n      <td>love</td>\n      <td>0.555049</td>\n      <td>0.127534</td>\n      <td>0.730983</td>\n      <td>0.291812</td>\n      <td>0.978555</td>\n      <td>0.961076</td>\n      <td>0.587596</td>\n      <td>0.567723</td>\n      <td>0.927424</td>\n    </tr>\n    <tr>\n      <th>3</th>\n      <td>4</td>\n      <td>2019-06-25</td>\n      <td>i feel calm and okay but sometimes i just get ...</td>\n      <td>happy</td>\n      <td>0.789170</td>\n      <td>0.378934</td>\n      <td>0.010054</td>\n      <td>0.382677</td>\n      <td>0.779995</td>\n      <td>0.232247</td>\n      <td>0.871201</td>\n      <td>0.318616</td>\n      <td>0.823189</td>\n    </tr>\n    <tr>\n      <th>4</th>\n      <td>7</td>\n      <td>2019-06-25</td>\n      <td>Sorting out Twitter issues....very frustrated ...</td>\n      <td>sadness</td>\n      <td>0.145375</td>\n      <td>0.735272</td>\n      <td>0.556742</td>\n      <td>0.173615</td>\n      <td>0.803377</td>\n      <td>0.352663</td>\n      <td>0.452289</td>\n      <td>0.781035</td>\n      <td>0.275906</td>\n    </tr>\n    <tr>\n      <th>5</th>\n      <td>4</td>\n      <td>2019-06-25</td>\n      <td>i feel determined even if nervous about the un...</td>\n      <td>happy</td>\n      <td>0.771547</td>\n      <td>0.414953</td>\n      <td>0.077189</td>\n      <td>0.353478</td>\n      <td>0.944439</td>\n      <td>0.550042</td>\n      <td>0.328112</td>\n      <td>0.223174</td>\n      <td>0.009819</td>\n    </tr>\n    <tr>\n      <th>6</th>\n      <td>1</td>\n      <td>2019-06-25</td>\n      <td>when we stayed in vienna with our class</td>\n      <td>fear</td>\n      <td>0.429251</td>\n      <td>0.669631</td>\n      <td>0.749570</td>\n      <td>0.785327</td>\n      <td>0.151958</td>\n      <td>0.705126</td>\n      <td>0.387590</td>\n      <td>0.180752</td>\n      <td>0.493257</td>\n    </tr>\n    <tr>\n      <th>7</th>\n      <td>0</td>\n      <td>2019-06-25</td>\n      <td>i hate storms.</td>\n      <td>worry</td>\n      <td>0.815066</td>\n      <td>0.328434</td>\n      <td>0.779316</td>\n      <td>0.502395</td>\n      <td>0.488474</td>\n      <td>0.022155</td>\n      <td>0.218752</td>\n      <td>0.099932</td>\n      <td>0.951560</td>\n    </tr>\n    <tr>\n      <th>8</th>\n      <td>8</td>\n      <td>2019-06-25</td>\n      <td>i am on BLAZE and my head hurts.</td>\n      <td>worry</td>\n      <td>0.841726</td>\n      <td>0.318780</td>\n      <td>0.348130</td>\n      <td>0.070946</td>\n      <td>0.717328</td>\n      <td>0.113960</td>\n      <td>0.899726</td>\n      <td>0.013460</td>\n      <td>0.553789</td>\n    </tr>\n    <tr>\n      <th>9</th>\n      <td>5</td>\n      <td>2019-06-25</td>\n      <td>a Dutch marketing agency is asking job applica...</td>\n      <td>neutral</td>\n      <td>0.678607</td>\n      <td>0.890771</td>\n      <td>0.533511</td>\n      <td>0.830520</td>\n      <td>0.493471</td>\n      <td>0.302623</td>\n      <td>0.159066</td>\n      <td>0.261856</td>\n      <td>0.478206</td>\n    </tr>\n    <tr>\n      <th>10</th>\n      <td>7</td>\n      <td>2019-06-25</td>\n      <td>i am left feeling numb and shaky</td>\n      <td>sadness</td>\n      <td>0.279164</td>\n      <td>0.614566</td>\n      <td>0.682568</td>\n      <td>0.614033</td>\n      <td>0.078421</td>\n      <td>0.625123</td>\n      <td>0.595496</td>\n      <td>0.234539</td>\n      <td>0.949552</td>\n    </tr>\n    <tr>\n      <th>11</th>\n      <td>5</td>\n      <td>2019-06-25</td>\n      <td>when i first heard i like you from my boyfriend</td>\n      <td>happy</td>\n      <td>0.037569</td>\n      <td>0.667280</td>\n      <td>0.743265</td>\n      <td>0.208985</td>\n      <td>0.982063</td>\n      <td>0.837844</td>\n      <td>0.779988</td>\n      <td>0.661408</td>\n      <td>0.502540</td>\n    </tr>\n    <tr>\n      <th>12</th>\n      <td>3</td>\n      <td>2019-06-25</td>\n      <td>@AshleighGrace93 morning ashleighhh  x</td>\n      <td>neutral</td>\n      <td>0.662112</td>\n      <td>0.527511</td>\n      <td>0.524379</td>\n      <td>0.382921</td>\n      <td>0.491395</td>\n      <td>0.923247</td>\n      <td>0.932668</td>\n      <td>0.323502</td>\n      <td>0.996096</td>\n    </tr>\n    <tr>\n      <th>13</th>\n      <td>6</td>\n      <td>2019-06-25</td>\n      <td>i can have strong feelings of inadequacy and b...</td>\n      <td>happy</td>\n      <td>0.280960</td>\n      <td>0.303964</td>\n      <td>0.014053</td>\n      <td>0.752417</td>\n      <td>0.684726</td>\n      <td>0.930048</td>\n      <td>0.743178</td>\n      <td>0.287222</td>\n      <td>0.272282</td>\n    </tr>\n    <tr>\n      <th>14</th>\n      <td>4</td>\n      <td>2019-06-25</td>\n      <td>i was feeling pretty anxious all day but my fi...</td>\n      <td>fear</td>\n      <td>0.050651</td>\n      <td>0.544769</td>\n      <td>0.306391</td>\n      <td>0.518252</td>\n      <td>0.671325</td>\n      <td>0.469580</td>\n      <td>0.856807</td>\n      <td>0.863045</td>\n      <td>0.569995</td>\n    </tr>\n    <tr>\n      <th>15</th>\n      <td>1</td>\n      <td>2019-06-25</td>\n      <td>i cant help but feeling a little hesitant abou...</td>\n      <td>fear</td>\n      <td>0.412052</td>\n      <td>0.499988</td>\n      <td>0.080581</td>\n      <td>0.236762</td>\n      <td>0.652676</td>\n      <td>0.810466</td>\n      <td>0.992807</td>\n      <td>0.412332</td>\n      <td>0.051955</td>\n    </tr>\n    <tr>\n      <th>16</th>\n      <td>8</td>\n      <td>2019-06-25</td>\n      <td>anticipating a tough day ahead</td>\n      <td>worry</td>\n      <td>0.725717</td>\n      <td>0.210205</td>\n      <td>0.322582</td>\n      <td>0.848412</td>\n      <td>0.968209</td>\n      <td>0.464073</td>\n      <td>0.347197</td>\n      <td>0.756910</td>\n      <td>0.174984</td>\n    </tr>\n    <tr>\n      <th>17</th>\n      <td>9</td>\n      <td>2019-06-25</td>\n      <td>chilling on the sofa, I hate vaccinations, I f...</td>\n      <td>worry</td>\n      <td>0.994928</td>\n      <td>0.721856</td>\n      <td>0.519299</td>\n      <td>0.603632</td>\n      <td>0.004960</td>\n      <td>0.477519</td>\n      <td>0.851123</td>\n      <td>0.394674</td>\n      <td>0.360597</td>\n    </tr>\n    <tr>\n      <th>18</th>\n      <td>1</td>\n      <td>2019-06-25</td>\n      <td>@oheather78 Sweet! I'm a Jaycee one-letter-er ...</td>\n      <td>fun</td>\n      <td>0.535082</td>\n      <td>0.602161</td>\n      <td>0.712975</td>\n      <td>0.373674</td>\n      <td>0.064686</td>\n      <td>0.243387</td>\n      <td>0.701616</td>\n      <td>0.239934</td>\n      <td>0.628927</td>\n    </tr>\n    <tr>\n      <th>19</th>\n      <td>9</td>\n      <td>2019-06-25</td>\n      <td>i feel i am wrongly punished or that my misbeh...</td>\n      <td>sadness</td>\n      <td>0.655966</td>\n      <td>0.520763</td>\n      <td>0.422587</td>\n      <td>0.894086</td>\n      <td>0.187115</td>\n      <td>0.750997</td>\n      <td>0.262859</td>\n      <td>0.094673</td>\n      <td>0.919938</td>\n    </tr>\n  </tbody>\n</table>\n</div>"
     },
     "metadata": {},
     "execution_count": 82
    }
   ],
   "source": [
    "msg_df"
   ]
  },
  {
   "cell_type": "code",
   "execution_count": 83,
   "metadata": {},
   "outputs": [],
   "source": [
    "msg_df.to_csv('../data/03/messages.csv', index_label=\"msg_id\")\n",
    "user_df.to_csv('../data/03/users.csv', index_label='user_id')"
   ]
  },
  {
   "cell_type": "code",
   "execution_count": 84,
   "metadata": {},
   "outputs": [
    {
     "output_type": "execute_result",
     "data": {
      "text/plain": [
       "   user_name user_register_date user_city user_monitoring\n",
       "0  Lily-Rose         2019-06-25     Lille                \n",
       "1     Cotton         2019-06-25     Lille                \n",
       "2     Tracey         2019-06-25     Lille                \n",
       "3   Mcdonald         2019-06-25     Lille                \n",
       "4       Tiah         2019-06-25     Lille                \n",
       "5    Hampton         2019-06-25     Lille                \n",
       "6     Burhan         2019-06-25     Lille                \n",
       "7      Marks         2019-06-25     Lille                \n",
       "8   Alasdair         2019-06-25     Lille                \n",
       "9      Cyrus         2019-06-25     Lille                "
      ],
      "text/html": "<div>\n<style scoped>\n    .dataframe tbody tr th:only-of-type {\n        vertical-align: middle;\n    }\n\n    .dataframe tbody tr th {\n        vertical-align: top;\n    }\n\n    .dataframe thead th {\n        text-align: right;\n    }\n</style>\n<table border=\"1\" class=\"dataframe\">\n  <thead>\n    <tr style=\"text-align: right;\">\n      <th></th>\n      <th>user_name</th>\n      <th>user_register_date</th>\n      <th>user_city</th>\n      <th>user_monitoring</th>\n    </tr>\n  </thead>\n  <tbody>\n    <tr>\n      <th>0</th>\n      <td>Lily-Rose</td>\n      <td>2019-06-25</td>\n      <td>Lille</td>\n      <td></td>\n    </tr>\n    <tr>\n      <th>1</th>\n      <td>Cotton</td>\n      <td>2019-06-25</td>\n      <td>Lille</td>\n      <td></td>\n    </tr>\n    <tr>\n      <th>2</th>\n      <td>Tracey</td>\n      <td>2019-06-25</td>\n      <td>Lille</td>\n      <td></td>\n    </tr>\n    <tr>\n      <th>3</th>\n      <td>Mcdonald</td>\n      <td>2019-06-25</td>\n      <td>Lille</td>\n      <td></td>\n    </tr>\n    <tr>\n      <th>4</th>\n      <td>Tiah</td>\n      <td>2019-06-25</td>\n      <td>Lille</td>\n      <td></td>\n    </tr>\n    <tr>\n      <th>5</th>\n      <td>Hampton</td>\n      <td>2019-06-25</td>\n      <td>Lille</td>\n      <td></td>\n    </tr>\n    <tr>\n      <th>6</th>\n      <td>Burhan</td>\n      <td>2019-06-25</td>\n      <td>Lille</td>\n      <td></td>\n    </tr>\n    <tr>\n      <th>7</th>\n      <td>Marks</td>\n      <td>2019-06-25</td>\n      <td>Lille</td>\n      <td></td>\n    </tr>\n    <tr>\n      <th>8</th>\n      <td>Alasdair</td>\n      <td>2019-06-25</td>\n      <td>Lille</td>\n      <td></td>\n    </tr>\n    <tr>\n      <th>9</th>\n      <td>Cyrus</td>\n      <td>2019-06-25</td>\n      <td>Lille</td>\n      <td></td>\n    </tr>\n  </tbody>\n</table>\n</div>"
     },
     "metadata": {},
     "execution_count": 84
    }
   ],
   "source": [
    "user_df"
   ]
  }
 ]
}