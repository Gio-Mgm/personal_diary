{
 "metadata": {
  "language_info": {
   "codemirror_mode": {
    "name": "ipython",
    "version": 3
   },
   "file_extension": ".py",
   "mimetype": "text/x-python",
   "name": "python",
   "nbconvert_exporter": "python",
   "pygments_lexer": "ipython3",
   "version": "3.8.5"
  },
  "orig_nbformat": 2,
  "kernelspec": {
   "name": "python3",
   "display_name": "Python 3.8.5 64-bit ('base': conda)"
  },
  "metadata": {
   "interpreter": {
    "hash": "8224d4ec9857f5f2d3915b47613da9acc0e9c91d6b4c8d2fd51c493a871d537c"
   }
  },
  "interpreter": {
   "hash": "8224d4ec9857f5f2d3915b47613da9acc0e9c91d6b4c8d2fd51c493a871d537c"
  }
 },
 "nbformat": 4,
 "nbformat_minor": 2,
 "cells": [
  {
   "cell_type": "code",
   "execution_count": 1,
   "metadata": {},
   "outputs": [],
   "source": [
    "import sys\n",
    "sys.path.append(\"../src\")\n",
    "\n",
    "import pandas as pd "
   ]
  },
  {
   "cell_type": "code",
   "execution_count": 5,
   "metadata": {},
   "outputs": [],
   "source": [
    "df = pd.read_csv(\"../data/01/emotions_full.csv\",index_col=0)#, usecols=[\"Unnamed: 0\", \"lemma\", \"sentiment\"])"
   ]
  },
  {
   "cell_type": "code",
   "execution_count": 8,
   "metadata": {},
   "outputs": [
    {
     "output_type": "execute_result",
     "data": {
      "text/plain": [
       "No     35784\n",
       "Yes    24848\n",
       "Name: is_positive, dtype: int64"
      ]
     },
     "metadata": {},
     "execution_count": 8
    }
   ],
   "source": [
    "df.is_positive.value_counts()"
   ]
  },
  {
   "cell_type": "code",
   "execution_count": 103,
   "metadata": {},
   "outputs": [
    {
     "output_type": "stream",
     "name": "stdout",
     "text": [
      "(60632, 6)\n"
     ]
    },
    {
     "output_type": "execute_result",
     "data": {
      "text/plain": [
       "                                               lemma sentiment\n",
       "0                                 not feel humiliate   sadness\n",
       "1  go feel hopeless damn hopeful around someone c...   sadness\n",
       "2                 grab minute post feel greedy wrong     anger\n",
       "3  ever feel nostalgic fireplace know still property      love\n",
       "4                                       feel grouchy     anger"
      ],
      "text/html": "<div>\n<style scoped>\n    .dataframe tbody tr th:only-of-type {\n        vertical-align: middle;\n    }\n\n    .dataframe tbody tr th {\n        vertical-align: top;\n    }\n\n    .dataframe thead th {\n        text-align: right;\n    }\n</style>\n<table border=\"1\" class=\"dataframe\">\n  <thead>\n    <tr style=\"text-align: right;\">\n      <th></th>\n      <th>lemma</th>\n      <th>sentiment</th>\n    </tr>\n  </thead>\n  <tbody>\n    <tr>\n      <th>0</th>\n      <td>not feel humiliate</td>\n      <td>sadness</td>\n    </tr>\n    <tr>\n      <th>1</th>\n      <td>go feel hopeless damn hopeful around someone c...</td>\n      <td>sadness</td>\n    </tr>\n    <tr>\n      <th>2</th>\n      <td>grab minute post feel greedy wrong</td>\n      <td>anger</td>\n    </tr>\n    <tr>\n      <th>3</th>\n      <td>ever feel nostalgic fireplace know still property</td>\n      <td>love</td>\n    </tr>\n    <tr>\n      <th>4</th>\n      <td>feel grouchy</td>\n      <td>anger</td>\n    </tr>\n  </tbody>\n</table>\n</div>"
     },
     "metadata": {},
     "execution_count": 103
    }
   ],
   "source": [
    "print(train.shape)\n",
    "df.head()"
   ]
  },
  {
   "cell_type": "code",
   "execution_count": 104,
   "metadata": {},
   "outputs": [
    {
     "output_type": "stream",
     "name": "stdout",
     "text": [
      "                                                lemma sentiment\n0                                  not feel humiliate   sadness\n1   go feel hopeless damn hopeful around someone c...   sadness\n5                feel little burden lately wasnt sure   sadness\n10           feel like make suffer see mean something   sadness\n13                            feel low energy thirsty   sadness\n                                                lemma sentiment\n2                  grab minute post feel greedy wrong     anger\n4                                        feel grouchy     anger\n12             think easiest ame year feel dissatisfy     anger\n20  feel irritate reject without anyone anything s...     anger\n24  already feel like fuck though dont usually eat...     anger\n                                                lemma sentiment\n3   ever feel nostalgic fireplace know still property      love\n9                                       feel romantic      love\n47        let go sad feel want accept first home mine      love\n61  eat could feel gentle tingle throughout almost...      love\n68  suppose truth need share havent feel faithful ...      love\n                                                 lemma sentiment\n6    take milligrams ame recommend amount fall asle...  surprise\n32   see hear read past couple days leave feel ampr...  surprise\n57   keep feel pleasantly surprise support haveness...  surprise\n64                 nearly finish week detox feel amaze  surprise\n129  feel stranger strange land raise son place not...  surprise\n                                                lemma sentiment\n7        feel confuse life teenager jade year old man      fear\n19  feel compromise skeptical value every unit wor...      fear\n21  feel completely overwhelm two strategies help ...      fear\n31                remember feel acutely distress days      fear\n53  stymie little bite write feel unsure might go ...      fear\n                                                lemma sentiment\n8   petronas years feel petronas perform well make...     happy\n11  feel run divine experience expect type spiritu...     happy\n14  ammense sympathy general point possible proto ...     happy\n15                     not feel reassure anxiety side     happy\n22                                 feel amuse delight     happy\n                                                 lemma   sentiment\n3                               want hang friends soon  enthusiasm\n56   bed sorta today good sara strep think angelina...  enthusiasm\n422                                  want another tatt  enthusiasm\n424                       need make lot money tomorrow  enthusiasm\n444  know ridiculous never get hang love chicago wa...  enthusiasm\n                                                lemma sentiment\n4           want trade someone houston tickets no one   neutral\n10                                   cant fall asleep   neutral\n22  no topic map talk balisage markup conference p...   neutral\n31                                         cant sleep   neutral\n32                                        miss bl bus   neutral\n                                             lemma sentiment\n5       pinging not go prom bc bf not like friends     worry\n7                                               hm     worry\n11                                 choke retainers     worry\n18     lady gaga tweet not ampress video leak know     worry\n20  oh bad hope get better i've sleep issue lately     worry\n                                                 lemma sentiment\n21   wonder i'm awake writing new song plotting evi...       fun\n41   lt gonna first twitter cause amaze lol come ca...       fun\n148               rip leonardo great mini fiddler crab       fun\n165                          not get memo look amazing       fun\n179  omg ur al lol day go slow i'm go insane gr any...       fun\n                                                 lemma sentiment\n30              annoy start type computer middle night      hate\n86   dammit hulu desktop totally screw ability talk...      hate\n99   cayogial want come bz summer : not sure anymor...      hate\n101                                    win sigh rakeem      hate\n105                                          damn suck      hate\n                                lemma sentiment\n112                          i'm tire   boredom\n316                   wait line tryst   boredom\n345           agree work double shift   boredom\n495  really really bored guess go bed   boredom\n583                deep priecing soul   boredom\n                                                 lemma sentiment\n147                                           i'm work    relief\n215  paint bedroom furniture still table wait move ...    relief\n312  scary lightning thunder i'm glad go sleep hope...    relief\n380                                 home safely hungry    relief\n406  finish hours texas life insurance ce tonight h...    relief\n"
     ]
    }
   ],
   "source": [
    "for s in df.sentiment.unique():\n",
    "    print(df[df['sentiment'] == s].head())"
   ]
  },
  {
   "cell_type": "code",
   "execution_count": 105,
   "metadata": {},
   "outputs": [],
   "source": [
    "keeped = [\n",
    " 'sadness',\n",
    " 'anger',\n",
    " 'love',\n",
    " 'fear',\n",
    " 'happy',\n",
    " 'enthusiasm',\n",
    " 'neutral',\n",
    " 'worry',\n",
    " 'fun',\n",
    " 'hate',\n",
    " 'boredom',\n",
    " ]\n",
    "\n",
    "df = df[df['sentiment'].isin(keeped)]"
   ]
  },
  {
   "cell_type": "code",
   "execution_count": 106,
   "metadata": {},
   "outputs": [
    {
     "output_type": "execute_result",
     "data": {
      "text/plain": [
       "lemma        0.305139\n",
       "sentiment    0.000000\n",
       "dtype: float64"
      ]
     },
     "metadata": {},
     "execution_count": 106
    }
   ],
   "source": [
    "df.isna().sum()/df.shape[0]*100"
   ]
  },
  {
   "cell_type": "code",
   "execution_count": 107,
   "metadata": {},
   "outputs": [],
   "source": [
    "df.dropna(axis=0, inplace=True)"
   ]
  },
  {
   "cell_type": "code",
   "execution_count": 109,
   "metadata": {},
   "outputs": [
    {
     "output_type": "execute_result",
     "data": {
      "text/plain": [
       "lemma        0.0\n",
       "sentiment    0.0\n",
       "dtype: float64"
      ]
     },
     "metadata": {},
     "execution_count": 109
    }
   ],
   "source": [
    "df.isna().sum()/df.shape[0]*100\n"
   ]
  },
  {
   "cell_type": "code",
   "execution_count": 110,
   "metadata": {},
   "outputs": [
    {
     "output_type": "execute_result",
     "data": {
      "text/plain": [
       "(55869, 2)"
      ]
     },
     "metadata": {},
     "execution_count": 110
    }
   ],
   "source": [
    "df.shape"
   ]
  }
 ]
}